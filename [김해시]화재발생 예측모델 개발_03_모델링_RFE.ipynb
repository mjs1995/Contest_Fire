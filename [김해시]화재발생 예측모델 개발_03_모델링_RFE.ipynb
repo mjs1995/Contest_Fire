{
 "cells": [
  {
   "cell_type": "markdown",
   "metadata": {},
   "source": [
    "### 모델 선택"
   ]
  },
  {
   "cell_type": "markdown",
   "metadata": {},
   "source": [
    "### RFE"
   ]
  },
  {
   "cell_type": "markdown",
   "metadata": {},
   "source": [
    "GradientBoostingClassifier()"
   ]
  },
  {
   "cell_type": "code",
   "execution_count": 50,
   "metadata": {},
   "outputs": [],
   "source": [
    "from sklearn.feature_selection import RFE"
   ]
  },
  {
   "cell_type": "code",
   "execution_count": 49,
   "metadata": {},
   "outputs": [],
   "source": [
    "gbc = RFE(GradientBoostingClassifier())"
   ]
  },
  {
   "cell_type": "code",
   "execution_count": 50,
   "metadata": {},
   "outputs": [
    {
     "data": {
      "text/plain": [
       "array([[1.000e+00, 4.000e+00, 1.000e+00, ..., 1.000e+00, 4.000e+00,\n",
       "        4.370e+02],\n",
       "       [1.000e+00, 1.000e+00, 1.000e+00, ..., 1.100e+01, 6.000e+00,\n",
       "        9.200e+01],\n",
       "       [7.000e+00, 3.000e+00, 1.000e+00, ..., 1.000e+00, 6.000e+00,\n",
       "        7.920e+02],\n",
       "       ...,\n",
       "       [1.000e+00, 1.000e+00, 1.000e+00, ..., 5.000e+00, 5.000e+00,\n",
       "        3.030e+02],\n",
       "       [2.000e+00, 5.000e+00, 2.000e+00, ..., 1.100e+01, 2.000e+00,\n",
       "        4.600e+02],\n",
       "       [4.000e+00, 5.000e+00, 3.000e+00, ..., 1.100e+01, 6.000e+00,\n",
       "        1.198e+03]])"
      ]
     },
     "execution_count": 50,
     "metadata": {},
     "output_type": "execute_result"
    }
   ],
   "source": [
    "gbc.fit_transform(X_train, y_train)"
   ]
  },
  {
   "cell_type": "code",
   "execution_count": 51,
   "metadata": {
    "scrolled": true
   },
   "outputs": [
    {
     "data": {
      "text/plain": [
       "{'estimator': GradientBoostingClassifier(criterion='friedman_mse', init=None,\n",
       "                            learning_rate=0.1, loss='deviance', max_depth=3,\n",
       "                            max_features=None, max_leaf_nodes=None,\n",
       "                            min_impurity_decrease=0.0, min_impurity_split=None,\n",
       "                            min_samples_leaf=1, min_samples_split=2,\n",
       "                            min_weight_fraction_leaf=0.0, n_estimators=100,\n",
       "                            n_iter_no_change=None, presort='auto',\n",
       "                            random_state=None, subsample=1.0, tol=0.0001,\n",
       "                            validation_fraction=0.1, verbose=0,\n",
       "                            warm_start=False),\n",
       " 'n_features_to_select': None,\n",
       " 'step': 1,\n",
       " 'verbose': 0,\n",
       " 'estimator_': GradientBoostingClassifier(criterion='friedman_mse', init=None,\n",
       "                            learning_rate=0.1, loss='deviance', max_depth=3,\n",
       "                            max_features=None, max_leaf_nodes=None,\n",
       "                            min_impurity_decrease=0.0, min_impurity_split=None,\n",
       "                            min_samples_leaf=1, min_samples_split=2,\n",
       "                            min_weight_fraction_leaf=0.0, n_estimators=100,\n",
       "                            n_iter_no_change=None, presort='auto',\n",
       "                            random_state=None, subsample=1.0, tol=0.0001,\n",
       "                            validation_fraction=0.1, verbose=0,\n",
       "                            warm_start=False),\n",
       " 'n_features_': 90,\n",
       " 'support_': array([ True,  True,  True,  True,  True,  True,  True,  True,  True,\n",
       "         True,  True,  True,  True, False,  True,  True,  True,  True,\n",
       "         True,  True,  True,  True,  True, False, False,  True,  True,\n",
       "        False,  True, False,  True, False, False, False,  True,  True,\n",
       "         True, False, False,  True, False, False, False, False, False,\n",
       "        False,  True,  True,  True,  True, False,  True, False, False,\n",
       "        False,  True,  True, False, False,  True, False, False, False,\n",
       "        False, False, False, False, False, False, False, False, False,\n",
       "         True, False,  True, False,  True, False, False, False, False,\n",
       "        False,  True, False,  True,  True,  True, False,  True,  True,\n",
       "         True,  True,  True, False,  True, False, False, False,  True,\n",
       "        False,  True,  True,  True, False, False,  True,  True, False,\n",
       "         True, False,  True,  True,  True, False, False, False, False,\n",
       "        False, False, False,  True,  True,  True, False, False, False,\n",
       "        False, False,  True, False, False, False,  True, False,  True,\n",
       "        False,  True, False,  True, False,  True, False,  True, False,\n",
       "        False, False, False, False, False, False, False, False, False,\n",
       "         True, False,  True, False,  True,  True, False,  True,  True,\n",
       "        False, False, False, False,  True,  True,  True,  True,  True,\n",
       "         True,  True,  True,  True,  True, False,  True,  True, False,\n",
       "         True]),\n",
       " 'ranking_': array([ 1,  1,  1,  1,  1,  1,  1,  1,  1,  1,  1,  1,  1,  2,  1,  1,  1,\n",
       "         1,  1,  1,  1,  1,  1, 42, 14,  1,  1, 27,  1, 37,  1, 39,  5,  9,\n",
       "         1,  1,  1, 20, 31,  1, 81,  3, 78, 46, 11, 29,  1,  1,  1,  1, 21,\n",
       "         1, 32, 71, 35,  1,  1, 49, 50,  1, 54, 12, 60, 58, 63, 64, 66, 69,\n",
       "        72, 70, 68, 82,  1, 74,  1, 90,  1, 80, 77, 91, 92, 55,  1, 83,  1,\n",
       "         1,  1, 10,  1,  1,  1,  1,  1, 52,  1,  8, 28, 38,  1, 88,  1,  1,\n",
       "         1, 30, 40,  1,  1, 34,  1, 36,  1,  1,  1, 73, 76, 33, 23, 41, 22,\n",
       "         7,  1,  1,  1,  6, 79, 13, 86, 87,  1, 75, 15, 19,  1, 24,  1, 25,\n",
       "         1, 44,  1, 45,  1, 48,  1, 51, 57, 56, 47, 61, 62,  4, 85, 84, 89,\n",
       "         1, 67,  1, 43,  1,  1, 18,  1,  1, 65, 59, 53, 16,  1,  1,  1,  1,\n",
       "         1,  1,  1,  1,  1,  1, 26,  1,  1, 17,  1])}"
      ]
     },
     "execution_count": 51,
     "metadata": {},
     "output_type": "execute_result"
    }
   ],
   "source": [
    "vars(gbc)"
   ]
  },
  {
   "cell_type": "code",
   "execution_count": 53,
   "metadata": {},
   "outputs": [],
   "source": [
    "gbc_f =['bldng_us',\n",
    " 'bldng_archtctr',\n",
    " 'bldng_us_clssfctn',\n",
    " #'wnd_drctn',\n",
    " 'hmdt',\n",
    " 'rgnl_ar_nm',\n",
    " #'rgnl_ar_nm2',\n",
    " 'lnd_us_sttn_nm',\n",
    " 'rd_sd_nm',\n",
    " 'ttl_grnd_flr',\n",
    " 'ahsm_dstnc',\n",
    " 'tmprtr',\n",
    " 'fr_wthr_fclt_in_100m',\n",
    " #'ttl_dwn_flr',\n",
    " 'wnd_spd',\n",
    " 'hm_cnt',\n",
    " 'bldng_ar',\n",
    " 'bldng_ar_prc',\n",
    " 'fr_mn_cnt',\n",
    " 'ttl_ar',\n",
    " 'bldng_cnt',\n",
    " 'bldng_age',\n",
    " 'prcpttn',\n",
    " 'gas_engry_us_201401',\n",
    " #'ele_engry_us_201401',\n",
    " #'gas_engry_us_201402',\n",
    " 'ele_engry_us_201402',\n",
    " #'gas_engry_us_201403',\n",
    " 'ele_engry_us_201403',\n",
    " #'gas_engry_us_201404',\n",
    " 'ele_engry_us_201404',\n",
    " #'gas_engry_us_201405',\n",
    " #'ele_engry_us_201405',\n",
    " #'gas_engry_us_201406',\n",
    " 'ele_engry_us_201406',\n",
    " 'gas_engry_us_201407',\n",
    " 'ele_engry_us_201407',\n",
    " #'gas_engry_us_201408',\n",
    " #'ele_engry_us_201408',\n",
    " 'gas_engry_us_201409',\n",
    " #'ele_engry_us_201409',\n",
    " 'gas_engry_us_201410',\n",
    " #'ele_engry_us_201410',\n",
    " #'gas_engry_us_201411',\n",
    " 'ele_engry_us_201411',\n",
    " #'gas_engry_us_201412',\n",
    " 'ele_engry_us_201412',\n",
    " #'gas_engry_us_201501',\n",
    " 'ele_engry_us_201501',\n",
    " 'gas_engry_us_201502',\n",
    " #'ele_engry_us_201502',\n",
    " 'gas_engry_us_201503',\n",
    " #'ele_engry_us_201503',\n",
    " #'gas_engry_us_201504',\n",
    " #'ele_engry_us_201504',\n",
    " 'gas_engry_us_201505',\n",
    " 'ele_engry_us_201505',\n",
    " #'gas_engry_us_201506',\n",
    " #'ele_engry_us_201506',\n",
    " 'gas_engry_us_201507',\n",
    " #'ele_engry_us_201507',\n",
    " #'gas_engry_us_201508',\n",
    " #'ele_engry_us_201508',\n",
    " #'gas_engry_us_201509',\n",
    " #'ele_engry_us_201509',\n",
    " #'gas_engry_us_201510',\n",
    " #'ele_engry_us_201510',\n",
    " #'gas_engry_us_201511',\n",
    " #'ele_engry_us_201511',\n",
    " #'gas_engry_us_201512',\n",
    " #'ele_engry_us_201512',\n",
    " #'gas_engry_us_201601',\n",
    " 'ele_engry_us_201601',\n",
    " #'gas_engry_us_201602',\n",
    " 'ele_engry_us_201602',\n",
    " #'gas_engry_us_201603',\n",
    " 'ele_engry_us_201603',\n",
    " #'gas_engry_us_201604',\n",
    " #'ele_engry_us_201604',\n",
    " #'gas_engry_us_201605',\n",
    " #'ele_engry_us_201605',\n",
    " #'gas_engry_us_201606',\n",
    " 'ele_engry_us_201606',\n",
    " #'gas_engry_us_201607',\n",
    " 'ele_engry_us_201607',\n",
    " 'gas_engry_us_201608',\n",
    " 'ele_engry_us_201608',\n",
    " #'gas_engry_us_201609',\n",
    " 'ele_engry_us_201609',\n",
    " 'gas_engry_us_201610',\n",
    " 'ele_engry_us_201610',\n",
    " 'gas_engry_us_201611',\n",
    " 'ele_engry_us_201611',\n",
    " #'gas_engry_us_201612',\n",
    " 'ele_engry_us_201612',\n",
    " #'gas_engry_us_201701',\n",
    " #'ele_engry_us_201701',\n",
    " #'gas_engry_us_201702',\n",
    " 'ele_engry_us_201702',\n",
    " #'gas_engry_us_201703',\n",
    " 'ele_engry_us_201703',\n",
    " 'gas_engry_us_201704',\n",
    " 'ele_engry_us_201704',\n",
    " 'gas_engry_us_201705',\n",
    " #'ele_engry_us_201705',\n",
    " #'gas_engry_us_201706',\n",
    " 'ele_engry_us_201706',\n",
    " #'gas_engry_us_201707',\n",
    " 'ele_engry_us_201707',\n",
    " #'gas_engry_us_201708',\n",
    " 'ele_engry_us_201708',\n",
    " 'gas_engry_us_201709',\n",
    " 'ele_engry_us_201709',\n",
    " #'gas_engry_us_201710',\n",
    " #'ele_engry_us_201710',\n",
    " #'gas_engry_us_201711',\n",
    " #'ele_engry_us_201711',\n",
    " #'gas_engry_us_201712',\n",
    " #'ele_engry_us_201712',\n",
    " #'gas_engry_us_201801',\n",
    " 'ele_engry_us_201801',\n",
    " 'gas_engry_us_201802',\n",
    " 'ele_engry_us_201802',\n",
    " 'gas_engry_us_201803',\n",
    " #'ele_engry_us_201803',\n",
    " #'gas_engry_us_201804',\n",
    " #'ele_engry_us_201804',\n",
    " #'gas_engry_us_201805',\n",
    " 'ele_engry_us_201805',\n",
    " #'gas_engry_us_201806',\n",
    " #'ele_engry_us_201806',\n",
    " #'gas_engry_us_201807',\n",
    " 'ele_engry_us_201807',\n",
    " #'gas_engry_us_201808',\n",
    " 'ele_engry_us_201808',\n",
    " #'gas_engry_us_201809',\n",
    " 'ele_engry_us_201809',\n",
    " #'gas_engry_us_201810',\n",
    " 'ele_engry_us_201810',\n",
    " #'gas_engry_us_201811',\n",
    " 'ele_engry_us_201811',\n",
    " #'gas_engry_us_201812',\n",
    " 'ele_engry_us_201812',\n",
    " #'lw_13101010',\n",
    " #'lw_13101110',\n",
    " #'lw_13101210',\n",
    " #'lw_13101211',\n",
    " #'lw_13101310',\n",
    " #'lw_13101410',\n",
    " #'lw_13111010',\n",
    " #'lw_13111110',\n",
    " #'lw_13121010',\n",
    " #'lw_13121011',\n",
    " 'lw_13131010',\n",
    " #'lw_13131110',\n",
    " 'lw_13141010',\n",
    " #'lw_13141011',\n",
    " 'emd_nm',\n",
    " 'trgt_crtr',\n",
    " #'fr_fghtng_fclt_spcl_css_5_yn',\n",
    " 'fr_fghtng_fclt_spcl_css_6_yn',\n",
    " 'us_yn',\n",
    " #'dngrs_thng_yn',\n",
    " #'slf_fr_brgd_yn',\n",
    " #'blk_dngrs_thng_mnfctr_yn',\n",
    " #'cltrl_hrtg_yn',\n",
    " 'jmk',\n",
    " 'id',\n",
    " 'fr_wthr_fclt_dstnc',\n",
    " 'mlt_us_yn',\n",
    " 'cctv_dstnc',\n",
    " 'cctv_in_100m',\n",
    " 'tbc_rtl_str_dstnc',\n",
    " 'sft_emrgnc_bll_dstnc',\n",
    " 'no_tbc_zn_dstnc',\n",
    " 'bldng_cnt_in_50m',\n",
    " #'release_year',\n",
    " 'release_month',\n",
    " 'release_weekday',\n",
    " #'is_release_weekend',\n",
    " 'release_time']"
   ]
  },
  {
   "cell_type": "code",
   "execution_count": 54,
   "metadata": {},
   "outputs": [],
   "source": [
    "df_all1 = pd.concat([X_train[gbc_f], X_val[gbc_f], test[gbc_f]])\n",
    "categorical_cols = df_all1.select_dtypes(['object']).columns\n",
    "categorical_cols\n",
    "for col in categorical_cols:\n",
    "    df_all1[col] = pd.Categorical(df_all1[col]).codes\n",
    "X_train1 = df_all1[:len(X_train[gbc_f])]\n",
    "X_val1 = df_all1[len(X_train[gbc_f]):-len(test[gbc_f])]\n",
    "test1 = df_all1[-len(test[gbc_f]):]"
   ]
  },
  {
   "cell_type": "code",
   "execution_count": 55,
   "metadata": {},
   "outputs": [
    {
     "name": "stderr",
     "output_type": "stream",
     "text": [
      " 17%|██████████████                                                                      | 1/6 [00:36<03:01, 36.40s/it]C:\\Users\\user\\Anaconda3\\lib\\site-packages\\sklearn\\ensemble\\forest.py:245: FutureWarning: The default value of n_estimators will change from 10 in version 0.20 to 100 in 0.22.\n",
      "  \"10 in version 0.20 to 100 in 0.22.\", FutureWarning)\n",
      "100%|████████████████████████████████████████████████████████████████████████████████████| 6/6 [04:46<00:00, 47.70s/it]\n"
     ]
    },
    {
     "data": {
      "text/plain": [
       "{'KNeighborsClassifier': {'score': 0.24046307868406108,\n",
       "  'params': {},\n",
       "  'model': KNeighborsClassifier(algorithm='auto', leaf_size=30, metric='minkowski',\n",
       "                       metric_params=None, n_jobs=None, n_neighbors=5, p=2,\n",
       "                       weights='uniform')},\n",
       " 'RandomForestClassifier': {'score': 0.37146234924150845,\n",
       "  'params': {},\n",
       "  'model': RandomForestClassifier(bootstrap=True, class_weight=None, criterion='gini',\n",
       "                         max_depth=None, max_features='auto', max_leaf_nodes=None,\n",
       "                         min_impurity_decrease=0.0, min_impurity_split=None,\n",
       "                         min_samples_leaf=1, min_samples_split=2,\n",
       "                         min_weight_fraction_leaf=0.0, n_estimators='warn',\n",
       "                         n_jobs=None, oob_score=False, random_state=None,\n",
       "                         verbose=0, warm_start=False)},\n",
       " 'MLPClassifier': {'score': 0.12695344283233942,\n",
       "  'params': {},\n",
       "  'model': MLPClassifier(activation='relu', alpha=0.0001, batch_size='auto', beta_1=0.9,\n",
       "                beta_2=0.999, early_stopping=False, epsilon=1e-08,\n",
       "                hidden_layer_sizes=(100,), learning_rate='constant',\n",
       "                learning_rate_init=0.001, max_iter=200, momentum=0.9,\n",
       "                n_iter_no_change=10, nesterovs_momentum=True, power_t=0.5,\n",
       "                random_state=None, shuffle=True, solver='adam', tol=0.0001,\n",
       "                validation_fraction=0.1, verbose=False, warm_start=False)},\n",
       " 'GradientBoostingClassifier': {'score': 0.412992257305462,\n",
       "  'params': {},\n",
       "  'model': GradientBoostingClassifier(criterion='friedman_mse', init=None,\n",
       "                             learning_rate=0.1, loss='deviance', max_depth=3,\n",
       "                             max_features=None, max_leaf_nodes=None,\n",
       "                             min_impurity_decrease=0.0, min_impurity_split=None,\n",
       "                             min_samples_leaf=1, min_samples_split=2,\n",
       "                             min_weight_fraction_leaf=0.0, n_estimators=100,\n",
       "                             n_iter_no_change=None, presort='auto',\n",
       "                             random_state=None, subsample=1.0, tol=0.0001,\n",
       "                             validation_fraction=0.1, verbose=0,\n",
       "                             warm_start=False)},\n",
       " 'XGBClassifier': {'score': 0.4098140823056011,\n",
       "  'params': {},\n",
       "  'model': XGBClassifier(base_score=0.5, booster='gbtree', colsample_bylevel=1,\n",
       "                colsample_bynode=1, colsample_bytree=1, gamma=0,\n",
       "                learning_rate=0.1, max_delta_step=0, max_depth=3,\n",
       "                min_child_weight=1, missing=None, n_estimators=100, n_jobs=1,\n",
       "                nthread=None, objective='binary:logistic', random_state=0,\n",
       "                reg_alpha=0, reg_lambda=1, scale_pos_weight=1, seed=None,\n",
       "                silent=None, subsample=1, verbosity=1)},\n",
       " 'LGBMClassifier': {'score': 0.4318813927005654,\n",
       "  'params': {},\n",
       "  'model': LGBMClassifier(boosting_type='gbdt', class_weight=None, colsample_bytree=1.0,\n",
       "                 importance_type='split', learning_rate=0.1, max_depth=-1,\n",
       "                 min_child_samples=20, min_child_weight=0.001, min_split_gain=0.0,\n",
       "                 n_estimators=100, n_jobs=-1, num_leaves=31, objective=None,\n",
       "                 random_state=None, reg_alpha=0.0, reg_lambda=0.0, silent=True,\n",
       "                 subsample=1.0, subsample_for_bin=200000, subsample_freq=0)}}"
      ]
     },
     "execution_count": 55,
     "metadata": {},
     "output_type": "execute_result"
    }
   ],
   "source": [
    "def select_model(X, Y):\n",
    "    best_models = {}\n",
    "    models = [\n",
    "        {   'name': 'KNeighborsClassifier',\n",
    "            'estimator': KNeighborsClassifier(),\n",
    "        },\n",
    "        {   'name': 'RandomForestClassifier',\n",
    "            'estimator': RandomForestClassifier(),\n",
    "        },\n",
    "        {   'name': 'MLPClassifier',\n",
    "            'estimator': MLPClassifier(),\n",
    "        },\n",
    "        {   'name': 'GradientBoostingClassifier',\n",
    "            'estimator': GradientBoostingClassifier(),\n",
    "        },\n",
    "        {   'name': 'XGBClassifier',\n",
    "            'estimator': XGBClassifier(),\n",
    "        },\n",
    "        {   'name': 'LGBMClassifier',\n",
    "            'estimator': LGBMClassifier(),\n",
    "        }\n",
    "        \n",
    "    ]\n",
    "    \n",
    "    for model in tqdm(models):\n",
    "        start = time.perf_counter()\n",
    "        grid = GridSearchCV(model['estimator'], param_grid={}, cv=5, scoring = \"f1\", verbose=False, n_jobs=-1)\n",
    "        grid.fit(X, Y)\n",
    "        best_models[model['name']] = {'score': grid.best_score_, 'params': grid.best_params_, 'model':model['estimator']}\n",
    "        run = time.perf_counter() - start\n",
    "        \n",
    "    return best_models\n",
    "\n",
    "models = select_model(X_train1, y_train)\n",
    "models"
   ]
  },
  {
   "cell_type": "code",
   "execution_count": 60,
   "metadata": {},
   "outputs": [],
   "source": [
    "model1= XGBClassifier(base_score=0.5, booster='gbtree', colsample_bylevel=1,\n",
    "                colsample_bynode=1, colsample_bytree=1, gamma=0,\n",
    "                learning_rate=0.1, max_delta_step=0, max_depth=3,\n",
    "                min_child_weight=1, missing=None, n_estimators=100, n_jobs=1,\n",
    "                nthread=None, objective='binary:logistic', random_state=0,\n",
    "                reg_alpha=0, reg_lambda=1, scale_pos_weight=1, seed=None,\n",
    "                silent=None, subsample=1, verbosity=1)\n",
    "\n",
    "model2 =LGBMClassifier(boosting_type='gbdt', class_weight=None, colsample_bytree=1.0,\n",
    "                 importance_type='split', learning_rate=0.1, max_depth=-1,\n",
    "                 min_child_samples=20, min_child_weight=0.001, min_split_gain=0.0,\n",
    "                 n_estimators=100, n_jobs=-1, num_leaves=31, objective=None,\n",
    "                 random_state=None, reg_alpha=0.0, reg_lambda=0.0, silent=True,\n",
    "                 subsample=1.0, subsample_for_bin=200000, subsample_freq=0)\n",
    "\n",
    "model3 = GradientBoostingClassifier(criterion='friedman_mse', init=None,\n",
    "                             learning_rate=0.1, loss='deviance', max_depth=3,\n",
    "                             max_features=None, max_leaf_nodes=None,\n",
    "                             min_impurity_decrease=0.0, min_impurity_split=None,\n",
    "                             min_samples_leaf=1, min_samples_split=2,\n",
    "                             min_weight_fraction_leaf=0.0, n_estimators=100,\n",
    "                             n_iter_no_change=None, presort='auto',\n",
    "                             random_state=None, subsample=1.0, tol=0.0001,\n",
    "                             validation_fraction=0.1, verbose=0,\n",
    "                             warm_start=False)\n",
    "\n",
    "model1.fit(X_train1, y_train)\n",
    "model2.fit(X_train1, y_train)\n",
    "model3.fit(X_train1, y_train)\n",
    "\n",
    "pred1=model1.predict(X_val1)\n",
    "pred2=model2.predict(X_val1)\n",
    "pred3=model3.predict(X_val1)"
   ]
  },
  {
   "cell_type": "code",
   "execution_count": 61,
   "metadata": {},
   "outputs": [
    {
     "data": {
      "text/plain": [
       "0.4840592725639874"
      ]
     },
     "execution_count": 61,
     "metadata": {},
     "output_type": "execute_result"
    }
   ],
   "source": [
    "f1_score(y_val, pred1)"
   ]
  },
  {
   "cell_type": "code",
   "execution_count": 62,
   "metadata": {},
   "outputs": [
    {
     "data": {
      "text/plain": [
       "0.5144140771246725"
      ]
     },
     "execution_count": 62,
     "metadata": {},
     "output_type": "execute_result"
    }
   ],
   "source": [
    "f1_score(y_val, pred2)"
   ]
  },
  {
   "cell_type": "code",
   "execution_count": 63,
   "metadata": {},
   "outputs": [
    {
     "data": {
      "text/plain": [
       "0.505091649694501"
      ]
     },
     "execution_count": 63,
     "metadata": {},
     "output_type": "execute_result"
    }
   ],
   "source": [
    "f1_score(y_val, pred3)"
   ]
  },
  {
   "cell_type": "code",
   "execution_count": 64,
   "metadata": {},
   "outputs": [],
   "source": [
    "y1 = model2.predict(test1)"
   ]
  },
  {
   "cell_type": "code",
   "execution_count": 65,
   "metadata": {},
   "outputs": [],
   "source": [
    "sub['fr_yn'] = y1\n",
    "sub['fr_yn'] = sub['fr_yn'].map({0:'N', 1:'Y'})\n",
    "sub.head()\n",
    "sub.to_csv('화재예측과제_Submission.csv', index=False)"
   ]
  },
  {
   "cell_type": "code",
   "execution_count": null,
   "metadata": {},
   "outputs": [],
   "source": []
  },
  {
   "cell_type": "markdown",
   "metadata": {},
   "source": [
    "LGBMClassifier()"
   ]
  },
  {
   "cell_type": "code",
   "execution_count": 51,
   "metadata": {},
   "outputs": [],
   "source": [
    "lgb =  RFE(LGBMClassifier())"
   ]
  },
  {
   "cell_type": "code",
   "execution_count": 52,
   "metadata": {},
   "outputs": [
    {
     "data": {
      "text/plain": [
       "array([[1.000e+00, 4.000e+00, 1.000e+00, ..., 1.000e+00, 4.000e+00,\n",
       "        4.370e+02],\n",
       "       [1.000e+00, 1.000e+00, 1.000e+00, ..., 1.100e+01, 6.000e+00,\n",
       "        9.200e+01],\n",
       "       [7.000e+00, 3.000e+00, 1.000e+00, ..., 1.000e+00, 6.000e+00,\n",
       "        7.920e+02],\n",
       "       ...,\n",
       "       [1.000e+00, 1.000e+00, 1.000e+00, ..., 5.000e+00, 5.000e+00,\n",
       "        3.030e+02],\n",
       "       [2.000e+00, 5.000e+00, 2.000e+00, ..., 1.100e+01, 2.000e+00,\n",
       "        4.600e+02],\n",
       "       [4.000e+00, 5.000e+00, 3.000e+00, ..., 1.100e+01, 6.000e+00,\n",
       "        1.198e+03]])"
      ]
     },
     "execution_count": 52,
     "metadata": {},
     "output_type": "execute_result"
    }
   ],
   "source": [
    "lgb.fit_transform(X_train, y_train)"
   ]
  },
  {
   "cell_type": "code",
   "execution_count": 55,
   "metadata": {},
   "outputs": [
    {
     "data": {
      "text/plain": [
       "{'estimator': LGBMClassifier(boosting_type='gbdt', class_weight=None, colsample_bytree=1.0,\n",
       "                importance_type='split', learning_rate=0.1, max_depth=-1,\n",
       "                min_child_samples=20, min_child_weight=0.001, min_split_gain=0.0,\n",
       "                n_estimators=100, n_jobs=-1, num_leaves=31, objective=None,\n",
       "                random_state=None, reg_alpha=0.0, reg_lambda=0.0, silent=True,\n",
       "                subsample=1.0, subsample_for_bin=200000, subsample_freq=0),\n",
       " 'n_features_to_select': None,\n",
       " 'step': 1,\n",
       " 'verbose': 0,\n",
       " 'estimator_': LGBMClassifier(boosting_type='gbdt', class_weight=None, colsample_bytree=1.0,\n",
       "                importance_type='split', learning_rate=0.1, max_depth=-1,\n",
       "                min_child_samples=20, min_child_weight=0.001, min_split_gain=0.0,\n",
       "                n_estimators=100, n_jobs=-1, num_leaves=31, objective=None,\n",
       "                random_state=None, reg_alpha=0.0, reg_lambda=0.0, silent=True,\n",
       "                subsample=1.0, subsample_for_bin=200000, subsample_freq=0),\n",
       " 'n_features_': 90,\n",
       " 'support_': array([ True,  True,  True,  True,  True,  True,  True,  True,  True,\n",
       "         True,  True,  True, False,  True,  True,  True,  True,  True,\n",
       "         True,  True,  True,  True,  True, False, False, False, False,\n",
       "        False, False,  True,  True, False, False, False,  True, False,\n",
       "         True, False, False, False, False,  True,  True, False, False,\n",
       "        False, False, False, False, False, False,  True,  True, False,\n",
       "        False, False, False, False, False,  True, False, False, False,\n",
       "        False,  True, False, False, False, False,  True,  True, False,\n",
       "        False, False, False, False, False, False,  True, False, False,\n",
       "         True, False,  True,  True,  True,  True, False,  True,  True,\n",
       "         True, False,  True, False,  True, False,  True, False,  True,\n",
       "        False,  True, False,  True, False,  True,  True,  True, False,\n",
       "         True, False,  True, False,  True,  True,  True, False,  True,\n",
       "        False,  True, False,  True, False,  True, False,  True, False,\n",
       "        False, False,  True, False,  True, False,  True, False,  True,\n",
       "        False,  True,  True,  True, False,  True, False,  True, False,\n",
       "        False, False, False, False, False, False, False, False, False,\n",
       "        False, False,  True, False,  True,  True,  True, False,  True,\n",
       "        False, False, False, False,  True,  True,  True,  True,  True,\n",
       "         True,  True,  True,  True,  True,  True,  True,  True, False,\n",
       "         True]),\n",
       " 'ranking_': array([ 1,  1,  1,  1,  1,  1,  1,  1,  1,  1,  1,  1, 69,  1,  1,  1,  1,\n",
       "         1,  1,  1,  1,  1,  1, 48, 16, 60,  6, 76, 18,  1,  1, 73, 41, 79,\n",
       "         1, 46,  1, 71,  4, 12, 75,  1,  1, 58, 62, 63, 27, 19, 34, 43, 44,\n",
       "         1,  1, 45, 14, 51, 59, 77, 30,  1, 40, 81, 25, 80,  1, 20, 39, 78,\n",
       "         5,  1,  1, 24, 36, 13, 88, 11, 92, 42,  1,  8, 82,  1, 47,  1,  1,\n",
       "         1,  1, 83,  1,  1,  1, 15,  1, 38,  1, 53,  1, 70,  1,  7,  1, 84,\n",
       "         1, 33,  1,  1,  1, 31,  1, 86,  1, 26,  1,  1,  1, 28,  1,  3,  1,\n",
       "        85,  1,  2,  1,  9,  1, 74, 10, 32,  1, 49,  1, 50,  1, 37,  1, 22,\n",
       "         1,  1,  1, 35,  1, 29,  1, 23, 64, 65, 66, 67, 17, 87, 21, 89, 90,\n",
       "        91, 61,  1, 52,  1,  1,  1, 72,  1, 54, 55, 68, 56,  1,  1,  1,  1,\n",
       "         1,  1,  1,  1,  1,  1,  1,  1,  1, 57,  1])}"
      ]
     },
     "execution_count": 55,
     "metadata": {},
     "output_type": "execute_result"
    }
   ],
   "source": [
    "vars(lgb)"
   ]
  },
  {
   "cell_type": "code",
   "execution_count": 54,
   "metadata": {},
   "outputs": [],
   "source": [
    "lgb_f =['bldng_us',\n",
    " 'bldng_archtctr',\n",
    " 'bldng_us_clssfctn',\n",
    " 'wnd_drctn',\n",
    " 'hmdt',\n",
    " 'rgnl_ar_nm',\n",
    " 'rgnl_ar_nm2',\n",
    " 'lnd_us_sttn_nm',\n",
    " 'rd_sd_nm',\n",
    " 'ttl_grnd_flr',\n",
    " 'ahsm_dstnc',\n",
    " 'tmprtr',\n",
    " 'fr_wthr_fclt_in_100m',\n",
    " #'ttl_dwn_flr',\n",
    " 'wnd_spd',\n",
    " 'hm_cnt',\n",
    " 'bldng_ar',\n",
    " 'bldng_ar_prc',\n",
    " 'fr_mn_cnt',\n",
    " 'ttl_ar',\n",
    " 'bldng_cnt',\n",
    " 'bldng_age',\n",
    " 'prcpttn',\n",
    " 'gas_engry_us_201401',\n",
    " #'ele_engry_us_201401',\n",
    " #'gas_engry_us_201402',\n",
    " #'ele_engry_us_201402',\n",
    " #'gas_engry_us_201403',\n",
    " #'ele_engry_us_201403',\n",
    " #'gas_engry_us_201404',\n",
    " 'ele_engry_us_201404',\n",
    " 'gas_engry_us_201405',\n",
    " #'ele_engry_us_201405',\n",
    " #'gas_engry_us_201406',\n",
    " #'ele_engry_us_201406',\n",
    " 'gas_engry_us_201407',\n",
    " #'ele_engry_us_201407',\n",
    " 'gas_engry_us_201408',\n",
    " #'ele_engry_us_201408',\n",
    " #'gas_engry_us_201409',\n",
    " #'ele_engry_us_201409',\n",
    " #'gas_engry_us_201410',\n",
    " 'ele_engry_us_201410',\n",
    " 'gas_engry_us_201411',\n",
    " #'ele_engry_us_201411',\n",
    " #'gas_engry_us_201412',\n",
    " #'ele_engry_us_201412',\n",
    " #'gas_engry_us_201501',\n",
    " #'ele_engry_us_201501',\n",
    " #'gas_engry_us_201502',\n",
    " #'ele_engry_us_201502',\n",
    " #'gas_engry_us_201503',\n",
    " 'ele_engry_us_201503',\n",
    " 'gas_engry_us_201504',\n",
    " #'ele_engry_us_201504',\n",
    " #'gas_engry_us_201505',\n",
    " #'ele_engry_us_201505',\n",
    " #'gas_engry_us_201506',\n",
    " #'ele_engry_us_201506',\n",
    " #'gas_engry_us_201507',\n",
    " 'ele_engry_us_201507',\n",
    " #'gas_engry_us_201508',\n",
    " #'ele_engry_us_201508',\n",
    " #'gas_engry_us_201509',\n",
    " #'ele_engry_us_201509',\n",
    " 'gas_engry_us_201510',\n",
    " #'ele_engry_us_201510',\n",
    " #'gas_engry_us_201511',\n",
    " #'ele_engry_us_201511',\n",
    " #'gas_engry_us_201512',\n",
    " 'ele_engry_us_201512',\n",
    " 'gas_engry_us_201601',\n",
    " #'ele_engry_us_201601',\n",
    " #'gas_engry_us_201602',\n",
    " #'ele_engry_us_201602',\n",
    " #'gas_engry_us_201603',\n",
    " #'ele_engry_us_201603',\n",
    " #'gas_engry_us_201604',\n",
    " #'ele_engry_us_201604',\n",
    " 'gas_engry_us_201605',\n",
    " #'ele_engry_us_201605',\n",
    " #'gas_engry_us_201606',\n",
    " 'ele_engry_us_201606',\n",
    " #'gas_engry_us_201607',\n",
    " 'ele_engry_us_201607',\n",
    " 'gas_engry_us_201608',\n",
    " 'ele_engry_us_201608',\n",
    " 'gas_engry_us_201609',\n",
    " #'ele_engry_us_201609',\n",
    " 'gas_engry_us_201610',\n",
    " 'ele_engry_us_201610',\n",
    " 'gas_engry_us_201611',\n",
    " #'ele_engry_us_201611',\n",
    " 'gas_engry_us_201612',\n",
    " #'ele_engry_us_201612',\n",
    " 'gas_engry_us_201701',\n",
    " #'ele_engry_us_201701',\n",
    " 'gas_engry_us_201702',\n",
    " #'ele_engry_us_201702',\n",
    " 'gas_engry_us_201703',\n",
    " #'ele_engry_us_201703',\n",
    " 'gas_engry_us_201704',\n",
    " #'ele_engry_us_201704',\n",
    " 'gas_engry_us_201705',\n",
    " #'ele_engry_us_201705',\n",
    " 'gas_engry_us_201706',\n",
    " 'ele_engry_us_201706',\n",
    " 'gas_engry_us_201707',\n",
    " #'ele_engry_us_201707',\n",
    " 'gas_engry_us_201708',\n",
    " #'ele_engry_us_201708',\n",
    " 'gas_engry_us_201709',\n",
    " #'ele_engry_us_201709',\n",
    " 'gas_engry_us_201710',\n",
    " 'ele_engry_us_201710',\n",
    " 'gas_engry_us_201711',\n",
    " #'ele_engry_us_201711',\n",
    " 'gas_engry_us_201712',\n",
    " #'ele_engry_us_201712',\n",
    " 'gas_engry_us_201801',\n",
    " #'ele_engry_us_201801',\n",
    " 'gas_engry_us_201802',\n",
    " #'ele_engry_us_201802',\n",
    " 'gas_engry_us_201803',\n",
    " #'ele_engry_us_201803',\n",
    " 'gas_engry_us_201804',\n",
    " #'ele_engry_us_201804',\n",
    " #'gas_engry_us_201805',\n",
    " #'ele_engry_us_201805',\n",
    " 'gas_engry_us_201806',\n",
    " #'ele_engry_us_201806',\n",
    " 'gas_engry_us_201807',\n",
    " #'ele_engry_us_201807',\n",
    " 'gas_engry_us_201808',\n",
    " #'ele_engry_us_201808',\n",
    " 'gas_engry_us_201809',\n",
    " #'ele_engry_us_201809',     \n",
    " 'gas_engry_us_201810',\n",
    " 'ele_engry_us_201810',\n",
    " 'gas_engry_us_201811',\n",
    " #'ele_engry_us_201811',\n",
    " 'gas_engry_us_201812',\n",
    " #'ele_engry_us_201812',\n",
    " 'lw_13101010',\n",
    " #'lw_13101110',\n",
    " #'lw_13101210',\n",
    " #'lw_13101211',\n",
    " #'lw_13101310',\n",
    " #'lw_13101410',\n",
    " #'lw_13111010',\n",
    " #'lw_13111110',\n",
    " #'lw_13121010',\n",
    " #'lw_13121011',\n",
    " #'lw_13131010',\n",
    " #'lw_13131110',\n",
    " #'lw_13141010',\n",
    " 'lw_13141011',\n",
    " #'emd_nm',\n",
    " 'trgt_crtr',\n",
    " 'fr_fghtng_fclt_spcl_css_5_yn',\n",
    " 'fr_fghtng_fclt_spcl_css_6_yn',\n",
    " #'us_yn',\n",
    " 'dngrs_thng_yn',\n",
    " #'slf_fr_brgd_yn',\n",
    " #'blk_dngrs_thng_mnfctr_yn',\n",
    " #'cltrl_hrtg_yn',\n",
    " #'jmk',\n",
    " 'id',\n",
    " 'fr_wthr_fclt_dstnc',\n",
    " 'mlt_us_yn',\n",
    " 'cctv_dstnc',\n",
    " 'cctv_in_100m',\n",
    " 'tbc_rtl_str_dstnc',\n",
    " 'sft_emrgnc_bll_dstnc',\n",
    " 'no_tbc_zn_dstnc',\n",
    " 'bldng_cnt_in_50m',\n",
    " 'release_year',\n",
    " 'release_month',\n",
    " 'release_weekday',\n",
    " #'is_release_weekend',\n",
    " 'release_time']"
   ]
  },
  {
   "cell_type": "code",
   "execution_count": 56,
   "metadata": {},
   "outputs": [],
   "source": [
    "df_all2 = pd.concat([X_train[lgb_f], X_val[lgb_f], test[lgb_f]])\n",
    "categorical_cols = df_all2.select_dtypes(['object']).columns\n",
    "categorical_cols\n",
    "for col in categorical_cols:\n",
    "    df_all2[col] = pd.Categorical(df_all2[col]).codes\n",
    "X_train2 = df_all2[:len(X_train[lgb_f])]\n",
    "X_val2 = df_all2[len(X_train[lgb_f]):-len(test[lgb_f])]\n",
    "test2 = df_all2[-len(test[lgb_f]):]"
   ]
  },
  {
   "cell_type": "code",
   "execution_count": 57,
   "metadata": {},
   "outputs": [
    {
     "name": "stderr",
     "output_type": "stream",
     "text": [
      " 17%|██████████████                                                                      | 1/6 [00:43<03:38, 43.77s/it]C:\\Users\\user\\Anaconda3\\lib\\site-packages\\sklearn\\ensemble\\forest.py:245: FutureWarning: The default value of n_estimators will change from 10 in version 0.20 to 100 in 0.22.\n",
      "  \"10 in version 0.20 to 100 in 0.22.\", FutureWarning)\n",
      " 33%|████████████████████████████                                                        | 2/6 [00:49<02:09, 32.29s/it]C:\\Users\\user\\Anaconda3\\lib\\site-packages\\sklearn\\neural_network\\multilayer_perceptron.py:566: ConvergenceWarning: Stochastic Optimizer: Maximum iterations (200) reached and the optimization hasn't converged yet.\n",
      "  % self.max_iter, ConvergenceWarning)\n",
      "100%|████████████████████████████████████████████████████████████████████████████████████| 6/6 [05:11<00:00, 51.84s/it]\n"
     ]
    },
    {
     "data": {
      "text/plain": [
       "{'KNeighborsClassifier': {'score': 0.22604155171537807,\n",
       "  'params': {},\n",
       "  'model': KNeighborsClassifier(algorithm='auto', leaf_size=30, metric='minkowski',\n",
       "                       metric_params=None, n_jobs=None, n_neighbors=5, p=2,\n",
       "                       weights='uniform')},\n",
       " 'RandomForestClassifier': {'score': 0.37703245033796723,\n",
       "  'params': {},\n",
       "  'model': RandomForestClassifier(bootstrap=True, class_weight=None, criterion='gini',\n",
       "                         max_depth=None, max_features='auto', max_leaf_nodes=None,\n",
       "                         min_impurity_decrease=0.0, min_impurity_split=None,\n",
       "                         min_samples_leaf=1, min_samples_split=2,\n",
       "                         min_weight_fraction_leaf=0.0, n_estimators='warn',\n",
       "                         n_jobs=None, oob_score=False, random_state=None,\n",
       "                         verbose=0, warm_start=False)},\n",
       " 'MLPClassifier': {'score': 0.2937433420852666,\n",
       "  'params': {},\n",
       "  'model': MLPClassifier(activation='relu', alpha=0.0001, batch_size='auto', beta_1=0.9,\n",
       "                beta_2=0.999, early_stopping=False, epsilon=1e-08,\n",
       "                hidden_layer_sizes=(100,), learning_rate='constant',\n",
       "                learning_rate_init=0.001, max_iter=200, momentum=0.9,\n",
       "                n_iter_no_change=10, nesterovs_momentum=True, power_t=0.5,\n",
       "                random_state=None, shuffle=True, solver='adam', tol=0.0001,\n",
       "                validation_fraction=0.1, verbose=False, warm_start=False)},\n",
       " 'GradientBoostingClassifier': {'score': 0.41139269517510385,\n",
       "  'params': {},\n",
       "  'model': GradientBoostingClassifier(criterion='friedman_mse', init=None,\n",
       "                             learning_rate=0.1, loss='deviance', max_depth=3,\n",
       "                             max_features=None, max_leaf_nodes=None,\n",
       "                             min_impurity_decrease=0.0, min_impurity_split=None,\n",
       "                             min_samples_leaf=1, min_samples_split=2,\n",
       "                             min_weight_fraction_leaf=0.0, n_estimators=100,\n",
       "                             n_iter_no_change=None, presort='auto',\n",
       "                             random_state=None, subsample=1.0, tol=0.0001,\n",
       "                             validation_fraction=0.1, verbose=0,\n",
       "                             warm_start=False)},\n",
       " 'XGBClassifier': {'score': 0.407355945943466,\n",
       "  'params': {},\n",
       "  'model': XGBClassifier(base_score=0.5, booster='gbtree', colsample_bylevel=1,\n",
       "                colsample_bynode=1, colsample_bytree=1, gamma=0,\n",
       "                learning_rate=0.1, max_delta_step=0, max_depth=3,\n",
       "                min_child_weight=1, missing=None, n_estimators=100, n_jobs=1,\n",
       "                nthread=None, objective='binary:logistic', random_state=0,\n",
       "                reg_alpha=0, reg_lambda=1, scale_pos_weight=1, seed=None,\n",
       "                silent=None, subsample=1, verbosity=1)},\n",
       " 'LGBMClassifier': {'score': 0.43066550481224797,\n",
       "  'params': {},\n",
       "  'model': LGBMClassifier(boosting_type='gbdt', class_weight=None, colsample_bytree=1.0,\n",
       "                 importance_type='split', learning_rate=0.1, max_depth=-1,\n",
       "                 min_child_samples=20, min_child_weight=0.001, min_split_gain=0.0,\n",
       "                 n_estimators=100, n_jobs=-1, num_leaves=31, objective=None,\n",
       "                 random_state=None, reg_alpha=0.0, reg_lambda=0.0, silent=True,\n",
       "                 subsample=1.0, subsample_for_bin=200000, subsample_freq=0)}}"
      ]
     },
     "execution_count": 57,
     "metadata": {},
     "output_type": "execute_result"
    }
   ],
   "source": [
    "def select_model(X, Y):\n",
    "    best_models = {}\n",
    "    models = [\n",
    "        {   'name': 'KNeighborsClassifier',\n",
    "            'estimator': KNeighborsClassifier(),\n",
    "        },\n",
    "        {   'name': 'RandomForestClassifier',\n",
    "            'estimator': RandomForestClassifier(),\n",
    "        },\n",
    "        {   'name': 'MLPClassifier',\n",
    "            'estimator': MLPClassifier(),\n",
    "        },\n",
    "        {   'name': 'GradientBoostingClassifier',\n",
    "            'estimator': GradientBoostingClassifier(),\n",
    "        },\n",
    "        {   'name': 'XGBClassifier',\n",
    "            'estimator': XGBClassifier(),\n",
    "        },\n",
    "        {   'name': 'LGBMClassifier',\n",
    "            'estimator': LGBMClassifier(),\n",
    "        }\n",
    "        \n",
    "    ]\n",
    "    \n",
    "    for model in tqdm(models):\n",
    "        start = time.perf_counter()\n",
    "        grid = GridSearchCV(model['estimator'], param_grid={}, cv=5, scoring = \"f1\", verbose=False, n_jobs=-1)\n",
    "        grid.fit(X, Y)\n",
    "        best_models[model['name']] = {'score': grid.best_score_, 'params': grid.best_params_, 'model':model['estimator']}\n",
    "        run = time.perf_counter() - start\n",
    "        \n",
    "    return best_models\n",
    "\n",
    "models = select_model(X_train2, y_train)\n",
    "models"
   ]
  },
  {
   "cell_type": "code",
   "execution_count": 58,
   "metadata": {},
   "outputs": [],
   "source": [
    "model1_1= XGBClassifier(base_score=0.5, booster='gbtree', colsample_bylevel=1,\n",
    "                colsample_bynode=1, colsample_bytree=1, gamma=0,\n",
    "                learning_rate=0.1, max_delta_step=0, max_depth=3,\n",
    "                min_child_weight=1, missing=None, n_estimators=100, n_jobs=1,\n",
    "                nthread=None, objective='binary:logistic', random_state=0,\n",
    "                reg_alpha=0, reg_lambda=1, scale_pos_weight=1, seed=None,\n",
    "                silent=None, subsample=1, verbosity=1)\n",
    "\n",
    "model2_1 =LGBMClassifier(boosting_type='gbdt', class_weight=None, colsample_bytree=1.0,\n",
    "                importance_type='split', learning_rate=0.1, max_depth=-1,\n",
    "                min_child_samples=20, min_child_weight=0.001, min_split_gain=0.0,\n",
    "                n_estimators=100, n_jobs=-1, num_leaves=31, objective=None,\n",
    "                random_state=None, reg_alpha=0.0, reg_lambda=0.0, silent=True,\n",
    "                subsample=1.0, subsample_for_bin=200000, subsample_freq=0)\n",
    "\n",
    "model3_1 = GradientBoostingClassifier(criterion='friedman_mse', init=None,\n",
    "                             learning_rate=0.1, loss='deviance', max_depth=3,\n",
    "                             max_features=None, max_leaf_nodes=None,\n",
    "                             min_impurity_decrease=0.0, min_impurity_split=None,\n",
    "                             min_samples_leaf=1, min_samples_split=2,\n",
    "                             min_weight_fraction_leaf=0.0, n_estimators=100,\n",
    "                             n_iter_no_change=None, presort='auto',\n",
    "                             random_state=None, subsample=1.0, tol=0.0001,\n",
    "                             validation_fraction=0.1, verbose=0,\n",
    "                             warm_start=False)\n",
    "\n",
    "model1_1.fit(X_train2, y_train)\n",
    "model2_1.fit(X_train2, y_train)\n",
    "model3_1.fit(X_train2, y_train)\n",
    "\n",
    "pred1=model1_1.predict(X_val2)\n",
    "pred2=model2_1.predict(X_val2)\n",
    "pred3=model3_1.predict(X_val2)"
   ]
  },
  {
   "cell_type": "code",
   "execution_count": 59,
   "metadata": {},
   "outputs": [
    {
     "data": {
      "text/plain": [
       "0.47606382978723405"
      ]
     },
     "execution_count": 59,
     "metadata": {},
     "output_type": "execute_result"
    }
   ],
   "source": [
    "f1_score(y_val, pred1)"
   ]
  },
  {
   "cell_type": "code",
   "execution_count": 60,
   "metadata": {},
   "outputs": [
    {
     "data": {
      "text/plain": [
       "0.5014084507042254"
      ]
     },
     "execution_count": 60,
     "metadata": {},
     "output_type": "execute_result"
    }
   ],
   "source": [
    "f1_score(y_val, pred2)"
   ]
  },
  {
   "cell_type": "code",
   "execution_count": 61,
   "metadata": {},
   "outputs": [
    {
     "data": {
      "text/plain": [
       "0.47791519434628976"
      ]
     },
     "execution_count": 61,
     "metadata": {},
     "output_type": "execute_result"
    }
   ],
   "source": [
    "f1_score(y_val, pred3)"
   ]
  },
  {
   "cell_type": "code",
   "execution_count": null,
   "metadata": {},
   "outputs": [],
   "source": []
  },
  {
   "cell_type": "markdown",
   "metadata": {},
   "source": [
    "XGBClassifier()"
   ]
  },
  {
   "cell_type": "code",
   "execution_count": 73,
   "metadata": {},
   "outputs": [],
   "source": [
    "xgb =  RFE(XGBClassifier())"
   ]
  },
  {
   "cell_type": "code",
   "execution_count": 74,
   "metadata": {},
   "outputs": [
    {
     "data": {
      "text/plain": [
       "array([[1.000e+00, 9.600e+01, 4.000e+00, ..., 1.000e+00, 4.000e+00,\n",
       "        4.370e+02],\n",
       "       [1.000e+00, 7.400e+01, 1.000e+00, ..., 1.100e+01, 6.000e+00,\n",
       "        9.200e+01],\n",
       "       [7.000e+00, 2.100e+01, 2.000e+00, ..., 1.000e+00, 6.000e+00,\n",
       "        7.920e+02],\n",
       "       ...,\n",
       "       [1.000e+00, 5.800e+01, 1.000e+00, ..., 5.000e+00, 5.000e+00,\n",
       "        3.030e+02],\n",
       "       [2.000e+00, 9.500e+01, 7.000e+00, ..., 1.100e+01, 2.000e+00,\n",
       "        4.600e+02],\n",
       "       [4.000e+00, 9.100e+01, 7.000e+00, ..., 1.100e+01, 6.000e+00,\n",
       "        1.198e+03]])"
      ]
     },
     "execution_count": 74,
     "metadata": {},
     "output_type": "execute_result"
    }
   ],
   "source": [
    "xgb.fit_transform(X_train, y_train)"
   ]
  },
  {
   "cell_type": "code",
   "execution_count": 75,
   "metadata": {},
   "outputs": [
    {
     "data": {
      "text/plain": [
       "{'estimator': XGBClassifier(base_score=0.5, booster='gbtree', colsample_bylevel=1,\n",
       "               colsample_bynode=1, colsample_bytree=1, gamma=0,\n",
       "               learning_rate=0.1, max_delta_step=0, max_depth=3,\n",
       "               min_child_weight=1, missing=None, n_estimators=100, n_jobs=1,\n",
       "               nthread=None, objective='binary:logistic', random_state=0,\n",
       "               reg_alpha=0, reg_lambda=1, scale_pos_weight=1, seed=None,\n",
       "               silent=None, subsample=1, verbosity=1),\n",
       " 'n_features_to_select': None,\n",
       " 'step': 1,\n",
       " 'verbose': 0,\n",
       " 'estimator_': XGBClassifier(base_score=0.5, booster='gbtree', colsample_bylevel=1,\n",
       "               colsample_bynode=1, colsample_bytree=1, gamma=0,\n",
       "               learning_rate=0.1, max_delta_step=0, max_depth=3,\n",
       "               min_child_weight=1, missing=None, n_estimators=100, n_jobs=1,\n",
       "               nthread=None, objective='binary:logistic', random_state=0,\n",
       "               reg_alpha=0, reg_lambda=1, scale_pos_weight=1, seed=None,\n",
       "               silent=None, subsample=1, verbosity=1),\n",
       " 'n_features_': 45,\n",
       " 'support_': array([ True, False, False,  True,  True,  True,  True, False,  True,\n",
       "         True, False,  True,  True,  True,  True,  True,  True,  True,\n",
       "         True,  True, False, False, False,  True, False, False, False,\n",
       "        False, False, False, False, False, False,  True, False,  True,\n",
       "         True, False, False, False, False,  True,  True,  True,  True,\n",
       "         True,  True, False, False,  True,  True, False, False, False,\n",
       "        False, False,  True, False, False, False, False, False, False,\n",
       "        False, False, False,  True,  True, False,  True,  True, False,\n",
       "        False,  True,  True, False, False,  True, False,  True,  True,\n",
       "        False,  True,  True,  True,  True, False,  True,  True,  True]),\n",
       " 'ranking_': array([ 1, 20,  2,  1,  1,  1,  1, 11,  1,  1, 25,  1,  1,  1,  1,  1,  1,\n",
       "         1,  1,  1, 33, 35, 37,  1, 44, 45, 40, 46, 43, 42, 14, 15, 16,  1,\n",
       "        18,  1,  1, 22, 26, 27, 23,  1,  1,  1,  1,  1,  1, 41, 39,  1,  1,\n",
       "         7, 24, 10, 17,  9,  1, 28, 29, 32,  4, 34, 36, 38, 31, 30,  1,  1,\n",
       "         8,  1,  1, 21, 13,  1,  1, 19,  6,  1,  3,  1,  1, 12,  1,  1,  1,\n",
       "         1,  5,  1,  1,  1])}"
      ]
     },
     "execution_count": 75,
     "metadata": {},
     "output_type": "execute_result"
    }
   ],
   "source": [
    "vars(xgb)"
   ]
  },
  {
   "cell_type": "code",
   "execution_count": 70,
   "metadata": {},
   "outputs": [],
   "source": [
    "xgb_f = [\n",
    " 'bldng_us',\n",
    " #'bldng_archtctr',\n",
    " #'bldng_us_clssfctn',\n",
    " 'hmdt',\n",
    " 'rgnl_ar_nm',\n",
    " 'lnd_us_sttn_nm',\n",
    " 'rd_sd_nm',\n",
    " #'ttl_grnd_flr',\n",
    " 'ahsm_dstnc',\n",
    " 'tmprtr',\n",
    " #'fr_wthr_fclt_in_100m',\n",
    " 'wnd_spd',\n",
    " 'hm_cnt',\n",
    " 'bldng_ar',\n",
    " 'bldng_ar_prc',\n",
    " 'fr_mn_cnt',\n",
    " 'ttl_ar',\n",
    " 'bldng_cnt',\n",
    " 'bldng_age',\n",
    " 'prcpttn',\n",
    " #'gas_engry_us_201401',\n",
    " #'ele_engry_us_201402',\n",
    " #'ele_engry_us_201403',\n",
    " 'ele_engry_us_201404',\n",
    " #'ele_engry_us_201406',\n",
    " #'gas_engry_us_201407',\n",
    " #'ele_engry_us_201407',\n",
    " #'gas_engry_us_201409',\n",
    " #'gas_engry_us_201410',\n",
    " #'ele_engry_us_201411',\n",
    " #'ele_engry_us_201412',\n",
    " #'ele_engry_us_201501',\n",
    " #'gas_engry_us_201502',\n",
    " 'gas_engry_us_201503',\n",
    " #'gas_engry_us_201505',\n",
    " 'ele_engry_us_201505',\n",
    " 'gas_engry_us_201507',\n",
    " #'ele_engry_us_201601',\n",
    " #'ele_engry_us_201602',\n",
    " #'ele_engry_us_201603',\n",
    " #'ele_engry_us_201606',\n",
    " 'ele_engry_us_201607',\n",
    " 'gas_engry_us_201608',\n",
    " 'ele_engry_us_201608',\n",
    " 'ele_engry_us_201609',\n",
    " 'gas_engry_us_201610',\n",
    " 'ele_engry_us_201610',\n",
    " #'gas_engry_us_201611',\n",
    " #'ele_engry_us_201611',\n",
    " 'ele_engry_us_201612',\n",
    " 'ele_engry_us_201702',\n",
    " #'ele_engry_us_201703',\n",
    " #'gas_engry_us_201704',\n",
    " #'ele_engry_us_201704',\n",
    " #'gas_engry_us_201705',\n",
    " #'ele_engry_us_201706',\n",
    " 'ele_engry_us_201707',\n",
    " #'ele_engry_us_201708',\n",
    " #'gas_engry_us_201709',\n",
    " #'ele_engry_us_201709',\n",
    " #'ele_engry_us_201801',\n",
    " #'gas_engry_us_201802',\n",
    " #'ele_engry_us_201802',\n",
    " #'gas_engry_us_201803',\n",
    " #'ele_engry_us_201805',\n",
    " #'ele_engry_us_201807',\n",
    " 'ele_engry_us_201808',\n",
    " 'ele_engry_us_201809',\n",
    " #'ele_engry_us_201810',\n",
    " 'ele_engry_us_201811',\n",
    " 'ele_engry_us_201812',\n",
    " #'lw_13131010',\n",
    " #'lw_13141010',\n",
    " 'emd_nm',\n",
    " 'trgt_crtr',\n",
    " #'fr_fghtng_fclt_spcl_css_6_yn',\n",
    " #'us_yn',\n",
    " 'jmk',\n",
    " #'id',\n",
    " 'fr_wthr_fclt_dstnc',\n",
    " 'mlt_us_yn',\n",
    " #'cctv_dstnc',\n",
    " 'cctv_in_100m',\n",
    " 'tbc_rtl_str_dstnc',\n",
    " 'sft_emrgnc_bll_dstnc',\n",
    " 'no_tbc_zn_dstnc',\n",
    " 'bldng_cnt_in_50m',\n",
    " 'release_month',\n",
    " 'release_weekday',\n",
    " 'release_time']"
   ]
  },
  {
   "cell_type": "code",
   "execution_count": 72,
   "metadata": {},
   "outputs": [],
   "source": [
    "df_all3 = pd.concat([X_train[xgb_f], X_val[xgb_f], test[xgb_f]])\n",
    "categorical_cols = df_all3.select_dtypes(['object']).columns\n",
    "categorical_cols\n",
    "for col in categorical_cols:\n",
    "    df_all3[col] = pd.Categorical(df_all3[col]).codes\n",
    "X_train3 = df_all3[:len(X_train[xgb_f])]\n",
    "X_val3 = df_all3[len(X_train[xgb_f]):-len(test[xgb_f])]\n",
    "test3 = df_all3[-len(test[xgb_f]):]"
   ]
  },
  {
   "cell_type": "code",
   "execution_count": 73,
   "metadata": {},
   "outputs": [
    {
     "name": "stderr",
     "output_type": "stream",
     "text": [
      " 17%|██████████████                                                                      | 1/6 [00:22<01:54, 22.98s/it]C:\\Users\\user\\Anaconda3\\lib\\site-packages\\sklearn\\ensemble\\forest.py:245: FutureWarning: The default value of n_estimators will change from 10 in version 0.20 to 100 in 0.22.\n",
      "  \"10 in version 0.20 to 100 in 0.22.\", FutureWarning)\n",
      "100%|████████████████████████████████████████████████████████████████████████████████████| 6/6 [03:43<00:00, 37.29s/it]\n"
     ]
    },
    {
     "data": {
      "text/plain": [
       "{'KNeighborsClassifier': {'score': 0.2492362400965754,\n",
       "  'params': {},\n",
       "  'model': KNeighborsClassifier(algorithm='auto', leaf_size=30, metric='minkowski',\n",
       "                       metric_params=None, n_jobs=None, n_neighbors=5, p=2,\n",
       "                       weights='uniform')},\n",
       " 'RandomForestClassifier': {'score': 0.3862197424773977,\n",
       "  'params': {},\n",
       "  'model': RandomForestClassifier(bootstrap=True, class_weight=None, criterion='gini',\n",
       "                         max_depth=None, max_features='auto', max_leaf_nodes=None,\n",
       "                         min_impurity_decrease=0.0, min_impurity_split=None,\n",
       "                         min_samples_leaf=1, min_samples_split=2,\n",
       "                         min_weight_fraction_leaf=0.0, n_estimators='warn',\n",
       "                         n_jobs=None, oob_score=False, random_state=None,\n",
       "                         verbose=0, warm_start=False)},\n",
       " 'MLPClassifier': {'score': 0.22654647227001357,\n",
       "  'params': {},\n",
       "  'model': MLPClassifier(activation='relu', alpha=0.0001, batch_size='auto', beta_1=0.9,\n",
       "                beta_2=0.999, early_stopping=False, epsilon=1e-08,\n",
       "                hidden_layer_sizes=(100,), learning_rate='constant',\n",
       "                learning_rate_init=0.001, max_iter=200, momentum=0.9,\n",
       "                n_iter_no_change=10, nesterovs_momentum=True, power_t=0.5,\n",
       "                random_state=None, shuffle=True, solver='adam', tol=0.0001,\n",
       "                validation_fraction=0.1, verbose=False, warm_start=False)},\n",
       " 'GradientBoostingClassifier': {'score': 0.4144202154110789,\n",
       "  'params': {},\n",
       "  'model': GradientBoostingClassifier(criterion='friedman_mse', init=None,\n",
       "                             learning_rate=0.1, loss='deviance', max_depth=3,\n",
       "                             max_features=None, max_leaf_nodes=None,\n",
       "                             min_impurity_decrease=0.0, min_impurity_split=None,\n",
       "                             min_samples_leaf=1, min_samples_split=2,\n",
       "                             min_weight_fraction_leaf=0.0, n_estimators=100,\n",
       "                             n_iter_no_change=None, presort='auto',\n",
       "                             random_state=None, subsample=1.0, tol=0.0001,\n",
       "                             validation_fraction=0.1, verbose=0,\n",
       "                             warm_start=False)},\n",
       " 'XGBClassifier': {'score': 0.40963886745094147,\n",
       "  'params': {},\n",
       "  'model': XGBClassifier(base_score=0.5, booster='gbtree', colsample_bylevel=1,\n",
       "                colsample_bynode=1, colsample_bytree=1, gamma=0,\n",
       "                learning_rate=0.1, max_delta_step=0, max_depth=3,\n",
       "                min_child_weight=1, missing=None, n_estimators=100, n_jobs=1,\n",
       "                nthread=None, objective='binary:logistic', random_state=0,\n",
       "                reg_alpha=0, reg_lambda=1, scale_pos_weight=1, seed=None,\n",
       "                silent=None, subsample=1, verbosity=1)},\n",
       " 'LGBMClassifier': {'score': 0.43366980529599125,\n",
       "  'params': {},\n",
       "  'model': LGBMClassifier(boosting_type='gbdt', class_weight=None, colsample_bytree=1.0,\n",
       "                 importance_type='split', learning_rate=0.1, max_depth=-1,\n",
       "                 min_child_samples=20, min_child_weight=0.001, min_split_gain=0.0,\n",
       "                 n_estimators=100, n_jobs=-1, num_leaves=31, objective=None,\n",
       "                 random_state=None, reg_alpha=0.0, reg_lambda=0.0, silent=True,\n",
       "                 subsample=1.0, subsample_for_bin=200000, subsample_freq=0)}}"
      ]
     },
     "execution_count": 73,
     "metadata": {},
     "output_type": "execute_result"
    }
   ],
   "source": [
    "def select_model(X, Y):\n",
    "    best_models = {}\n",
    "    models = [\n",
    "        {   'name': 'KNeighborsClassifier',\n",
    "            'estimator': KNeighborsClassifier(),\n",
    "        },\n",
    "        {   'name': 'RandomForestClassifier',\n",
    "            'estimator': RandomForestClassifier(),\n",
    "        },\n",
    "        {   'name': 'MLPClassifier',\n",
    "            'estimator': MLPClassifier(),\n",
    "        },\n",
    "        {   'name': 'GradientBoostingClassifier',\n",
    "            'estimator': GradientBoostingClassifier(),\n",
    "        },\n",
    "        {   'name': 'XGBClassifier',\n",
    "            'estimator': XGBClassifier(),\n",
    "        },\n",
    "        {   'name': 'LGBMClassifier',\n",
    "            'estimator': LGBMClassifier(),\n",
    "        }\n",
    "        \n",
    "    ]\n",
    "    \n",
    "    for model in tqdm(models):\n",
    "        start = time.perf_counter()\n",
    "        grid = GridSearchCV(model['estimator'], param_grid={}, cv=5, scoring = \"f1\", verbose=False, n_jobs=-1)\n",
    "        grid.fit(X, Y)\n",
    "        best_models[model['name']] = {'score': grid.best_score_, 'params': grid.best_params_, 'model':model['estimator']}\n",
    "        run = time.perf_counter() - start\n",
    "        \n",
    "    return best_models\n",
    "\n",
    "models = select_model(X_train3, y_train)\n",
    "models"
   ]
  },
  {
   "cell_type": "code",
   "execution_count": 74,
   "metadata": {},
   "outputs": [],
   "source": [
    "model1_2= XGBClassifier(base_score=0.5, booster='gbtree', colsample_bylevel=1,\n",
    "                colsample_bynode=1, colsample_bytree=1, gamma=0,\n",
    "                learning_rate=0.1, max_delta_step=0, max_depth=3,\n",
    "                min_child_weight=1, missing=None, n_estimators=100, n_jobs=1,\n",
    "                nthread=None, objective='binary:logistic', random_state=0,\n",
    "                reg_alpha=0, reg_lambda=1, scale_pos_weight=1, seed=None,\n",
    "                silent=None, subsample=1, verbosity=1)\n",
    "\n",
    "model2_2 = LGBMClassifier(boosting_type='gbdt', class_weight=None, colsample_bytree=1.0,\n",
    "                 importance_type='split', learning_rate=0.1, max_depth=-1,\n",
    "                 min_child_samples=20, min_child_weight=0.001, min_split_gain=0.0,\n",
    "                 n_estimators=100, n_jobs=-1, num_leaves=31, objective=None,\n",
    "                 random_state=None, reg_alpha=0.0, reg_lambda=0.0, silent=True,\n",
    "                 subsample=1.0, subsample_for_bin=200000, subsample_freq=0)\n",
    "\n",
    "model3_2 = GradientBoostingClassifier(criterion='friedman_mse', init=None,\n",
    "                             learning_rate=0.1, loss='deviance', max_depth=3,\n",
    "                             max_features=None, max_leaf_nodes=None,\n",
    "                             min_impurity_decrease=0.0, min_impurity_split=None,\n",
    "                             min_samples_leaf=1, min_samples_split=2,\n",
    "                             min_weight_fraction_leaf=0.0, n_estimators=100,\n",
    "                             n_iter_no_change=None, presort='auto',\n",
    "                             random_state=None, subsample=1.0, tol=0.0001,\n",
    "                             validation_fraction=0.1, verbose=0,\n",
    "                             warm_start=False)\n",
    "\n",
    "model1_2.fit(X_train3, y_train)\n",
    "model2_2.fit(X_train3, y_train)\n",
    "model3_2.fit(X_train3, y_train)\n",
    "\n",
    "pred1=model1_2.predict(X_val3)\n",
    "pred2=model2_2.predict(X_val3)\n",
    "pred3=model3_2.predict(X_val3)"
   ]
  },
  {
   "cell_type": "code",
   "execution_count": 75,
   "metadata": {},
   "outputs": [
    {
     "data": {
      "text/plain": [
       "0.4858044164037855"
      ]
     },
     "execution_count": 75,
     "metadata": {},
     "output_type": "execute_result"
    }
   ],
   "source": [
    "f1_score(y_val, pred1)"
   ]
  },
  {
   "cell_type": "code",
   "execution_count": 76,
   "metadata": {},
   "outputs": [
    {
     "data": {
      "text/plain": [
       "0.5067567567567568"
      ]
     },
     "execution_count": 76,
     "metadata": {},
     "output_type": "execute_result"
    }
   ],
   "source": [
    "f1_score(y_val, pred2)"
   ]
  },
  {
   "cell_type": "code",
   "execution_count": 77,
   "metadata": {},
   "outputs": [
    {
     "data": {
      "text/plain": [
       "0.5006065507480792"
      ]
     },
     "execution_count": 77,
     "metadata": {},
     "output_type": "execute_result"
    }
   ],
   "source": [
    "f1_score(y_val, pred3)"
   ]
  }
 ],
 "metadata": {
  "kernelspec": {
   "display_name": "Python 3",
   "language": "python",
   "name": "python3"
  },
  "language_info": {
   "codemirror_mode": {
    "name": "ipython",
    "version": 3
   },
   "file_extension": ".py",
   "mimetype": "text/x-python",
   "name": "python",
   "nbconvert_exporter": "python",
   "pygments_lexer": "ipython3",
   "version": "3.7.4"
  }
 },
 "nbformat": 4,
 "nbformat_minor": 2
}
